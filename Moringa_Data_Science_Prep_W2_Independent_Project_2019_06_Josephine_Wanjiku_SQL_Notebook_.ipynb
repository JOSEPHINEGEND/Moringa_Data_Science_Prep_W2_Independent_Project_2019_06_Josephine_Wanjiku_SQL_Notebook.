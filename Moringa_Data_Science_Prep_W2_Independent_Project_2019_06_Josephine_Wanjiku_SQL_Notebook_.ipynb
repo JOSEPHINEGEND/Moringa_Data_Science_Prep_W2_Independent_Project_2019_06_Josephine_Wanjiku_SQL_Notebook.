{
  "nbformat": 4,
  "nbformat_minor": 0,
  "metadata": {
    "colab": {
      "name": "Moringa_Data_Science_Prep_W2_Independent_Project_2019_06_Josephine_Wanjiku_SQL_Notebook.",
      "version": "0.3.2",
      "provenance": [],
      "collapsed_sections": [],
      "include_colab_link": true
    },
    "kernelspec": {
      "name": "python3",
      "display_name": "Python 3"
    }
  },
  "cells": [
    {
      "cell_type": "markdown",
      "metadata": {
        "id": "view-in-github",
        "colab_type": "text"
      },
      "source": [
        "<a href=\"https://colab.research.google.com/github/JOSEPHINEGEND/Moringa_Data_Science_Prep_W2_Independent_Project_2019_06_Josephine_Wanjiku_SQL_Notebook./blob/master/Moringa_Data_Science_Prep_W2_Independent_Project_2019_06_Josephine_Wanjiku_SQL_Notebook_.ipynb\" target=\"_parent\"><img src=\"https://colab.research.google.com/assets/colab-badge.svg\" alt=\"Open In Colab\"/></a>"
      ]
    },
    {
      "cell_type": "code",
      "metadata": {
        "id": "J6lUaULj2auA",
        "colab_type": "code",
        "outputId": "bc6d9297-9387-4112-fef6-ead9bbc0e212",
        "colab": {
          "base_uri": "https://localhost:8080/",
          "height": 67
        }
      },
      "source": [
        "# First, we load the sql extention into our environment\n",
        "\n",
        "%load_ext sql\n",
        "\n",
        "# we then connect our memory sqlite database \n",
        "\n",
        "%sql sqlite://"
      ],
      "execution_count": 0,
      "outputs": [
        {
          "output_type": "stream",
          "text": [
            "The sql extension is already loaded. To reload it, use:\n",
            "  %reload_ext sql\n"
          ],
          "name": "stdout"
        },
        {
          "output_type": "execute_result",
          "data": {
            "text/plain": [
              "'Connected: @None'"
            ]
          },
          "metadata": {
            "tags": []
          },
          "execution_count": 43
        }
      ]
    },
    {
      "cell_type": "code",
      "metadata": {
        "id": "v58WCPeo2usK",
        "colab_type": "code",
        "colab": {}
      },
      "source": [
        "# Importing pandas \n",
        "import pandas as pd"
      ],
      "execution_count": 0,
      "outputs": []
    },
    {
      "cell_type": "code",
      "metadata": {
        "id": "mDX8ldxq2yhT",
        "colab_type": "code",
        "colab": {}
      },
      "source": [
        "# Loading the Grand electors by state dataset\n",
        "\n",
        "with open ('GrandElectors_by_state.csv', 'r') as f:\n",
        "  GrandElectors = pd.read_csv(f, index_col=0, encoding='utf-8') "
      ],
      "execution_count": 0,
      "outputs": []
    },
    {
      "cell_type": "code",
      "metadata": {
        "id": "9PP7bOSD2ysg",
        "colab_type": "code",
        "outputId": "e130ad1d-5d2a-493f-80f2-3934d76ea195",
        "colab": {
          "base_uri": "https://localhost:8080/",
          "height": 222
        }
      },
      "source": [
        "# Removing any similar table existing in our database\n",
        "# then persist GrandElectors table\n",
        "# preview GrandElectors table\n",
        "\n",
        "\n",
        "%sql DROP TABLE IF EXISTS GrandElectors;\n",
        "%sql PERSIST GrandElectors;\n",
        "%sql SELECT * FROM GrandElectors limit 5 "
      ],
      "execution_count": 0,
      "outputs": [
        {
          "output_type": "stream",
          "text": [
            " * sqlite://\n",
            "Done.\n",
            " * sqlite://\n",
            " * sqlite://\n",
            "Done.\n"
          ],
          "name": "stdout"
        },
        {
          "output_type": "execute_result",
          "data": {
            "text/html": [
              "<table>\n",
              "    <tr>\n",
              "        <th>State</th>\n",
              "        <th>GrandElectors</th>\n",
              "    </tr>\n",
              "    <tr>\n",
              "        <td>Alabama</td>\n",
              "        <td>9</td>\n",
              "    </tr>\n",
              "    <tr>\n",
              "        <td>Alaska</td>\n",
              "        <td>3</td>\n",
              "    </tr>\n",
              "    <tr>\n",
              "        <td>Arizona</td>\n",
              "        <td>11</td>\n",
              "    </tr>\n",
              "    <tr>\n",
              "        <td>Arkansas</td>\n",
              "        <td>6</td>\n",
              "    </tr>\n",
              "    <tr>\n",
              "        <td>California</td>\n",
              "        <td>55</td>\n",
              "    </tr>\n",
              "</table>"
            ],
            "text/plain": [
              "[('Alabama', 9),\n",
              " ('Alaska', 3),\n",
              " ('Arizona', 11),\n",
              " ('Arkansas', 6),\n",
              " ('California', 55)]"
            ]
          },
          "metadata": {
            "tags": []
          },
          "execution_count": 55
        }
      ]
    },
    {
      "cell_type": "code",
      "metadata": {
        "id": "F2GhK18D2y2I",
        "colab_type": "code",
        "colab": {}
      },
      "source": [
        "# Loading the population by state dataset\n",
        "with open ('Population_by_state.csv', 'r') as f:\n",
        "  Population = pd.read_csv(f, index_col=0, encoding='utf-8') "
      ],
      "execution_count": 0,
      "outputs": []
    },
    {
      "cell_type": "code",
      "metadata": {
        "id": "pkOhOwiX2y7y",
        "colab_type": "code",
        "outputId": "8ea17c6d-6ad5-4574-9876-76793d8e13a6",
        "colab": {
          "base_uri": "https://localhost:8080/",
          "height": 222
        }
      },
      "source": [
        "# Removing any similar table existing in our database\n",
        "# then persist Population table\n",
        "# preview Population table\n",
        "\n",
        "\n",
        "%sql DROP TABLE IF EXISTS Population;\n",
        "%sql PERSIST Population;\n",
        "%sql SELECT * FROM Population limit 5 "
      ],
      "execution_count": 0,
      "outputs": [
        {
          "output_type": "stream",
          "text": [
            " * sqlite://\n",
            "Done.\n",
            " * sqlite://\n",
            " * sqlite://\n",
            "Done.\n"
          ],
          "name": "stdout"
        },
        {
          "output_type": "execute_result",
          "data": {
            "text/html": [
              "<table>\n",
              "    <tr>\n",
              "        <th>State</th>\n",
              "        <th>Population</th>\n",
              "    </tr>\n",
              "    <tr>\n",
              "        <td>CALIFORNIA</td>\n",
              "        <td>39144818</td>\n",
              "    </tr>\n",
              "    <tr>\n",
              "        <td>TEXAS</td>\n",
              "        <td>27469114</td>\n",
              "    </tr>\n",
              "    <tr>\n",
              "        <td>FLORIDA</td>\n",
              "        <td>20271272</td>\n",
              "    </tr>\n",
              "    <tr>\n",
              "        <td>NEW YORK</td>\n",
              "        <td>19795791</td>\n",
              "    </tr>\n",
              "    <tr>\n",
              "        <td>ILLINOIS</td>\n",
              "        <td>12859995</td>\n",
              "    </tr>\n",
              "</table>"
            ],
            "text/plain": [
              "[('CALIFORNIA', 39144818),\n",
              " ('TEXAS', 27469114),\n",
              " ('FLORIDA', 20271272),\n",
              " ('NEW YORK', 19795791),\n",
              " ('ILLINOIS', 12859995)]"
            ]
          },
          "metadata": {
            "tags": []
          },
          "execution_count": 57
        }
      ]
    },
    {
      "cell_type": "code",
      "metadata": {
        "id": "uSFHpISX2y_i",
        "colab_type": "code",
        "outputId": "a54b0776-11ea-47b5-c68a-1c96c312c416",
        "colab": {
          "base_uri": "https://localhost:8080/",
          "height": 67
        }
      },
      "source": [
        "# Converting ALL the States from GenderElectors to UPPER case\n",
        "%%sql\n",
        "UPDATE GrandElectors\n",
        "SET State = UPPER(State)"
      ],
      "execution_count": 0,
      "outputs": [
        {
          "output_type": "stream",
          "text": [
            " * sqlite://\n",
            "51 rows affected.\n"
          ],
          "name": "stdout"
        },
        {
          "output_type": "execute_result",
          "data": {
            "text/plain": [
              "[]"
            ]
          },
          "metadata": {
            "tags": []
          },
          "execution_count": 58
        }
      ]
    },
    {
      "cell_type": "code",
      "metadata": {
        "id": "-_eKAH9z2zGI",
        "colab_type": "code",
        "outputId": "0c24ad1a-3169-4be1-ca6c-a60f83864bb1",
        "colab": {
          "base_uri": "https://localhost:8080/",
          "height": 192
        }
      },
      "source": [
        "# preview to see changes made on GrandElectors table\n",
        "%%sql\n",
        "SELECT * from GrandElectors limit 6"
      ],
      "execution_count": 0,
      "outputs": [
        {
          "output_type": "stream",
          "text": [
            " * sqlite://\n",
            "Done.\n"
          ],
          "name": "stdout"
        },
        {
          "output_type": "execute_result",
          "data": {
            "text/html": [
              "<table>\n",
              "    <tr>\n",
              "        <th>State</th>\n",
              "        <th>GrandElectors</th>\n",
              "    </tr>\n",
              "    <tr>\n",
              "        <td>ALABAMA</td>\n",
              "        <td>9</td>\n",
              "    </tr>\n",
              "    <tr>\n",
              "        <td>ALASKA</td>\n",
              "        <td>3</td>\n",
              "    </tr>\n",
              "    <tr>\n",
              "        <td>ARIZONA</td>\n",
              "        <td>11</td>\n",
              "    </tr>\n",
              "    <tr>\n",
              "        <td>ARKANSAS</td>\n",
              "        <td>6</td>\n",
              "    </tr>\n",
              "    <tr>\n",
              "        <td>CALIFORNIA</td>\n",
              "        <td>55</td>\n",
              "    </tr>\n",
              "    <tr>\n",
              "        <td>COLORADO</td>\n",
              "        <td>9</td>\n",
              "    </tr>\n",
              "</table>"
            ],
            "text/plain": [
              "[('ALABAMA', 9),\n",
              " ('ALASKA', 3),\n",
              " ('ARIZONA', 11),\n",
              " ('ARKANSAS', 6),\n",
              " ('CALIFORNIA', 55),\n",
              " ('COLORADO', 9)]"
            ]
          },
          "metadata": {
            "tags": []
          },
          "execution_count": 59
        }
      ]
    },
    {
      "cell_type": "code",
      "metadata": {
        "id": "fdhqm9og3BCh",
        "colab_type": "code",
        "outputId": "a31c36fa-8c09-4f77-b1e2-62d24d6f900b",
        "colab": {
          "base_uri": "https://localhost:8080/",
          "height": 67
        }
      },
      "source": [
        "# Joining the two tables on the state key\n",
        "# by creating another table called 'MERGEDTABLE'\n",
        "# then using INNER JOIN function to join them\n",
        "%%sql\n",
        "CREATE TABLE MERGEDTABLE AS SELECT State, Population, GrandElectors \n",
        "FROM (SELECT * FROM Population\n",
        "INNER JOIN GrandElectors ON \n",
        "Population.State = GrandElectors.State)"
      ],
      "execution_count": 0,
      "outputs": [
        {
          "output_type": "stream",
          "text": [
            " * sqlite://\n",
            "Done.\n"
          ],
          "name": "stdout"
        },
        {
          "output_type": "execute_result",
          "data": {
            "text/plain": [
              "[]"
            ]
          },
          "metadata": {
            "tags": []
          },
          "execution_count": 60
        }
      ]
    },
    {
      "cell_type": "code",
      "metadata": {
        "id": "OR3NJC364w5z",
        "colab_type": "code",
        "outputId": "8e2a8660-5cac-4258-bf76-ad003358263a",
        "colab": {
          "base_uri": "https://localhost:8080/",
          "height": 172
        }
      },
      "source": [
        "# to preview the merged table\n",
        "%%sql\n",
        "SELECT * FROM MERGEDTABLE limit 5"
      ],
      "execution_count": 0,
      "outputs": [
        {
          "output_type": "stream",
          "text": [
            " * sqlite://\n",
            "Done.\n"
          ],
          "name": "stdout"
        },
        {
          "output_type": "execute_result",
          "data": {
            "text/html": [
              "<table>\n",
              "    <tr>\n",
              "        <th>State</th>\n",
              "        <th>Population</th>\n",
              "        <th>GrandElectors</th>\n",
              "    </tr>\n",
              "    <tr>\n",
              "        <td>CALIFORNIA</td>\n",
              "        <td>39144818</td>\n",
              "        <td>55</td>\n",
              "    </tr>\n",
              "    <tr>\n",
              "        <td>TEXAS</td>\n",
              "        <td>27469114</td>\n",
              "        <td>38</td>\n",
              "    </tr>\n",
              "    <tr>\n",
              "        <td>FLORIDA</td>\n",
              "        <td>20271272</td>\n",
              "        <td>29</td>\n",
              "    </tr>\n",
              "    <tr>\n",
              "        <td>NEW YORK</td>\n",
              "        <td>19795791</td>\n",
              "        <td>29</td>\n",
              "    </tr>\n",
              "    <tr>\n",
              "        <td>ILLINOIS</td>\n",
              "        <td>12859995</td>\n",
              "        <td>20</td>\n",
              "    </tr>\n",
              "</table>"
            ],
            "text/plain": [
              "[('CALIFORNIA', 39144818, 55),\n",
              " ('TEXAS', 27469114, 38),\n",
              " ('FLORIDA', 20271272, 29),\n",
              " ('NEW YORK', 19795791, 29),\n",
              " ('ILLINOIS', 12859995, 20)]"
            ]
          },
          "metadata": {
            "tags": []
          },
          "execution_count": 61
        }
      ]
    },
    {
      "cell_type": "code",
      "metadata": {
        "id": "FYzOm6uS4_q5",
        "colab_type": "code",
        "outputId": "9313231c-f37c-497b-81c4-dc301296794b",
        "colab": {
          "base_uri": "https://localhost:8080/",
          "height": 67
        }
      },
      "source": [
        "# To change the name of the \"District of Columbia\" state to its short version \"DC\"\n",
        "%%sql\n",
        "UPDATE MERGEDTABLE \n",
        "SET State = \"DC\"\n",
        "WHERE State = \"DISTRICT OF COLUMBIA\"\n"
      ],
      "execution_count": 0,
      "outputs": [
        {
          "output_type": "stream",
          "text": [
            " * sqlite://\n",
            "1 rows affected.\n"
          ],
          "name": "stdout"
        },
        {
          "output_type": "execute_result",
          "data": {
            "text/plain": [
              "[]"
            ]
          },
          "metadata": {
            "tags": []
          },
          "execution_count": 62
        }
      ]
    },
    {
      "cell_type": "code",
      "metadata": {
        "id": "qPjWx-J_6sQY",
        "colab_type": "code",
        "outputId": "a846ca85-2d77-4279-af0e-e90825d0a0b7",
        "colab": {
          "base_uri": "https://localhost:8080/",
          "height": 67
        }
      },
      "source": [
        "# computing the ratio between the number of grand electors and the population\n",
        "# creating a new column to display that ratio\n",
        "%%sql\n",
        "ALTER TABLE MERGEDTABLE ADD RatioGP float(20)\n"
      ],
      "execution_count": 0,
      "outputs": [
        {
          "output_type": "stream",
          "text": [
            " * sqlite://\n",
            "Done.\n"
          ],
          "name": "stdout"
        },
        {
          "output_type": "execute_result",
          "data": {
            "text/plain": [
              "[]"
            ]
          },
          "metadata": {
            "tags": []
          },
          "execution_count": 63
        }
      ]
    },
    {
      "cell_type": "code",
      "metadata": {
        "id": "OAjT3J5Y7u4o",
        "colab_type": "code",
        "outputId": "fa134fc6-6b05-4317-d7a1-196822b04e13",
        "colab": {
          "base_uri": "https://localhost:8080/",
          "height": 172
        }
      },
      "source": [
        "# to preview the table with added column\n",
        "%%sql\n",
        "SELECT * FROM MERGEDTABLE limit 5"
      ],
      "execution_count": 0,
      "outputs": [
        {
          "output_type": "stream",
          "text": [
            " * sqlite://\n",
            "Done.\n"
          ],
          "name": "stdout"
        },
        {
          "output_type": "execute_result",
          "data": {
            "text/html": [
              "<table>\n",
              "    <tr>\n",
              "        <th>State</th>\n",
              "        <th>Population</th>\n",
              "        <th>GrandElectors</th>\n",
              "        <th>RatioGP</th>\n",
              "    </tr>\n",
              "    <tr>\n",
              "        <td>CALIFORNIA</td>\n",
              "        <td>39144818</td>\n",
              "        <td>55</td>\n",
              "        <td>None</td>\n",
              "    </tr>\n",
              "    <tr>\n",
              "        <td>TEXAS</td>\n",
              "        <td>27469114</td>\n",
              "        <td>38</td>\n",
              "        <td>None</td>\n",
              "    </tr>\n",
              "    <tr>\n",
              "        <td>FLORIDA</td>\n",
              "        <td>20271272</td>\n",
              "        <td>29</td>\n",
              "        <td>None</td>\n",
              "    </tr>\n",
              "    <tr>\n",
              "        <td>NEW YORK</td>\n",
              "        <td>19795791</td>\n",
              "        <td>29</td>\n",
              "        <td>None</td>\n",
              "    </tr>\n",
              "    <tr>\n",
              "        <td>ILLINOIS</td>\n",
              "        <td>12859995</td>\n",
              "        <td>20</td>\n",
              "        <td>None</td>\n",
              "    </tr>\n",
              "</table>"
            ],
            "text/plain": [
              "[('CALIFORNIA', 39144818, 55, None),\n",
              " ('TEXAS', 27469114, 38, None),\n",
              " ('FLORIDA', 20271272, 29, None),\n",
              " ('NEW YORK', 19795791, 29, None),\n",
              " ('ILLINOIS', 12859995, 20, None)]"
            ]
          },
          "metadata": {
            "tags": []
          },
          "execution_count": 64
        }
      ]
    },
    {
      "cell_type": "code",
      "metadata": {
        "id": "JJSqqr9C7-Ts",
        "colab_type": "code",
        "outputId": "3665983d-9bcc-44a2-f452-2f49c59e7f24",
        "colab": {
          "base_uri": "https://localhost:8080/",
          "height": 209
        }
      },
      "source": [
        "# Updating the RatioGP column with\n",
        "# calculated ratio which is Population/GrandElectors\n",
        "# then order the states by decreasing ratio \n",
        "\n",
        "# this will make our priority list.\n",
        "\n",
        "%%sql\n",
        "UPDATE MERGEDTABLE\n",
        "SET \"RatioGP\" = Population/GrandElectors;\n",
        "SELECT * FROM MERGEDTABLE \n",
        "ORDER BY RatioGP ASC limit 6;"
      ],
      "execution_count": 0,
      "outputs": [
        {
          "output_type": "stream",
          "text": [
            " * sqlite://\n",
            "51 rows affected.\n",
            "Done.\n"
          ],
          "name": "stdout"
        },
        {
          "output_type": "execute_result",
          "data": {
            "text/html": [
              "<table>\n",
              "    <tr>\n",
              "        <th>State</th>\n",
              "        <th>Population</th>\n",
              "        <th>GrandElectors</th>\n",
              "        <th>RatioGP</th>\n",
              "    </tr>\n",
              "    <tr>\n",
              "        <td>WYOMING</td>\n",
              "        <td>586107</td>\n",
              "        <td>3</td>\n",
              "        <td>195369.0</td>\n",
              "    </tr>\n",
              "    <tr>\n",
              "        <td>VERMONT</td>\n",
              "        <td>626042</td>\n",
              "        <td>3</td>\n",
              "        <td>208680.0</td>\n",
              "    </tr>\n",
              "    <tr>\n",
              "        <td>DC</td>\n",
              "        <td>672228</td>\n",
              "        <td>3</td>\n",
              "        <td>224076.0</td>\n",
              "    </tr>\n",
              "    <tr>\n",
              "        <td>ALASKA</td>\n",
              "        <td>738432</td>\n",
              "        <td>3</td>\n",
              "        <td>246144.0</td>\n",
              "    </tr>\n",
              "    <tr>\n",
              "        <td>NORTH DAKOTA</td>\n",
              "        <td>756927</td>\n",
              "        <td>3</td>\n",
              "        <td>252309.0</td>\n",
              "    </tr>\n",
              "    <tr>\n",
              "        <td>RHODE ISLAND</td>\n",
              "        <td>1056298</td>\n",
              "        <td>4</td>\n",
              "        <td>264074.0</td>\n",
              "    </tr>\n",
              "</table>"
            ],
            "text/plain": [
              "[('WYOMING', 586107, 3, 195369.0),\n",
              " ('VERMONT', 626042, 3, 208680.0),\n",
              " ('DC', 672228, 3, 224076.0),\n",
              " ('ALASKA', 738432, 3, 246144.0),\n",
              " ('NORTH DAKOTA', 756927, 3, 252309.0),\n",
              " ('RHODE ISLAND', 1056298, 4, 264074.0)]"
            ]
          },
          "metadata": {
            "tags": []
          },
          "execution_count": 71
        }
      ]
    },
    {
      "cell_type": "code",
      "metadata": {
        "id": "T7P-xvTSBp34",
        "colab_type": "code",
        "outputId": "5cc90f32-d21c-429a-88cb-7e525a5f3c7c",
        "colab": {
          "base_uri": "https://localhost:8080/",
          "height": 92
        }
      },
      "source": [
        "# Computing the running total of Grand Electors in the sorted list.\n",
        "\n",
        "%%sql\n",
        "SELECT SUM(GrandElectors) from MERGEDTABLE"
      ],
      "execution_count": 0,
      "outputs": [
        {
          "output_type": "stream",
          "text": [
            " * sqlite://\n",
            "Done.\n"
          ],
          "name": "stdout"
        },
        {
          "output_type": "execute_result",
          "data": {
            "text/html": [
              "<table>\n",
              "    <tr>\n",
              "        <th>SUM(GrandElectors)</th>\n",
              "    </tr>\n",
              "    <tr>\n",
              "        <td>538</td>\n",
              "    </tr>\n",
              "</table>"
            ],
            "text/plain": [
              "[(538,)]"
            ]
          },
          "metadata": {
            "tags": []
          },
          "execution_count": 73
        }
      ]
    },
    {
      "cell_type": "code",
      "metadata": {
        "id": "mKL0ArorCcUe",
        "colab_type": "code",
        "outputId": "d9f79cf0-b24f-4e3f-ee47-d47cf3d1a336",
        "colab": {
          "base_uri": "https://localhost:8080/",
          "height": 92
        }
      },
      "source": [
        "# Independently, to compute the half of the total of Grand Electors overall (in the whole country):\n",
        "# This is the threshold we need to reach for winning the presidential election.\n",
        "\n",
        "%%sql\n",
        "SELECT SUM(GrandElectors)/2 from MERGEDTABLE\n"
      ],
      "execution_count": 0,
      "outputs": [
        {
          "output_type": "stream",
          "text": [
            " * sqlite://\n",
            "Done.\n"
          ],
          "name": "stdout"
        },
        {
          "output_type": "execute_result",
          "data": {
            "text/html": [
              "<table>\n",
              "    <tr>\n",
              "        <th>SUM(GrandElectors)/2</th>\n",
              "    </tr>\n",
              "    <tr>\n",
              "        <td>269</td>\n",
              "    </tr>\n",
              "</table>"
            ],
            "text/plain": [
              "[(269,)]"
            ]
          },
          "metadata": {
            "tags": []
          },
          "execution_count": 74
        }
      ]
    },
    {
      "cell_type": "code",
      "metadata": {
        "id": "EBhshzmjD-2W",
        "colab_type": "code",
        "outputId": "f7205711-48ec-46c6-d4db-e8fb1536409d",
        "colab": {
          "base_uri": "https://localhost:8080/",
          "height": 1000
        }
      },
      "source": [
        "# To filter our sorted list of states in order to keep only the (top) ones enabling us to reach the computed threshold.\n",
        "# (the other states can be ignored). That is our target list.\n",
        "# Hint: You can do that in 2 steps:\n",
        "# Select all the states for which the running total is below or equal to the threshold.\n",
        "# Add the first state for which the running total is larger than the threshold.\n",
        "\n",
        "\n",
        "%%sql\n",
        "SELECT a1.State, a1.GrandElectors, SUM(a2.GrandElectors) Running_Total\n",
        "FROM MERGEDTABLE a1, MERGEDTABLE a2\n",
        "WHERE a1.GrandElectors <= a2.GrandElectors or (a1.GrandElectors=a2.GrandElectors and a1.State = a2.State)\n",
        "GROUP BY a1.State, a1.GrandElectors\n",
        "ORDER BY a1.GrandElectors DESC, a1.State DESC;"
      ],
      "execution_count": 0,
      "outputs": [
        {
          "output_type": "stream",
          "text": [
            " * sqlite://\n",
            "Done.\n"
          ],
          "name": "stdout"
        },
        {
          "output_type": "execute_result",
          "data": {
            "text/html": [
              "<table>\n",
              "    <tr>\n",
              "        <th>State</th>\n",
              "        <th>GrandElectors</th>\n",
              "        <th>Running_Total</th>\n",
              "    </tr>\n",
              "    <tr>\n",
              "        <td>CALIFORNIA</td>\n",
              "        <td>55</td>\n",
              "        <td>55</td>\n",
              "    </tr>\n",
              "    <tr>\n",
              "        <td>TEXAS</td>\n",
              "        <td>38</td>\n",
              "        <td>93</td>\n",
              "    </tr>\n",
              "    <tr>\n",
              "        <td>NEW YORK</td>\n",
              "        <td>29</td>\n",
              "        <td>151</td>\n",
              "    </tr>\n",
              "    <tr>\n",
              "        <td>FLORIDA</td>\n",
              "        <td>29</td>\n",
              "        <td>151</td>\n",
              "    </tr>\n",
              "    <tr>\n",
              "        <td>PENNSYLVANIA</td>\n",
              "        <td>20</td>\n",
              "        <td>191</td>\n",
              "    </tr>\n",
              "    <tr>\n",
              "        <td>ILLINOIS</td>\n",
              "        <td>20</td>\n",
              "        <td>191</td>\n",
              "    </tr>\n",
              "    <tr>\n",
              "        <td>OHIO</td>\n",
              "        <td>18</td>\n",
              "        <td>209</td>\n",
              "    </tr>\n",
              "    <tr>\n",
              "        <td>MICHIGAN</td>\n",
              "        <td>16</td>\n",
              "        <td>241</td>\n",
              "    </tr>\n",
              "    <tr>\n",
              "        <td>GEORGIA</td>\n",
              "        <td>16</td>\n",
              "        <td>241</td>\n",
              "    </tr>\n",
              "    <tr>\n",
              "        <td>NORTH CAROLINA</td>\n",
              "        <td>15</td>\n",
              "        <td>256</td>\n",
              "    </tr>\n",
              "    <tr>\n",
              "        <td>NEW JERSEY</td>\n",
              "        <td>14</td>\n",
              "        <td>270</td>\n",
              "    </tr>\n",
              "    <tr>\n",
              "        <td>VIRGINIA</td>\n",
              "        <td>13</td>\n",
              "        <td>283</td>\n",
              "    </tr>\n",
              "    <tr>\n",
              "        <td>WASHINGTON</td>\n",
              "        <td>12</td>\n",
              "        <td>295</td>\n",
              "    </tr>\n",
              "    <tr>\n",
              "        <td>TENNESSEE</td>\n",
              "        <td>11</td>\n",
              "        <td>339</td>\n",
              "    </tr>\n",
              "    <tr>\n",
              "        <td>MASSACHUSETTS</td>\n",
              "        <td>11</td>\n",
              "        <td>339</td>\n",
              "    </tr>\n",
              "    <tr>\n",
              "        <td>INDIANA</td>\n",
              "        <td>11</td>\n",
              "        <td>339</td>\n",
              "    </tr>\n",
              "    <tr>\n",
              "        <td>ARIZONA</td>\n",
              "        <td>11</td>\n",
              "        <td>339</td>\n",
              "    </tr>\n",
              "    <tr>\n",
              "        <td>WISCONSIN</td>\n",
              "        <td>10</td>\n",
              "        <td>379</td>\n",
              "    </tr>\n",
              "    <tr>\n",
              "        <td>MISSOURI</td>\n",
              "        <td>10</td>\n",
              "        <td>379</td>\n",
              "    </tr>\n",
              "    <tr>\n",
              "        <td>MINNESOTA</td>\n",
              "        <td>10</td>\n",
              "        <td>379</td>\n",
              "    </tr>\n",
              "    <tr>\n",
              "        <td>MARYLAND</td>\n",
              "        <td>10</td>\n",
              "        <td>379</td>\n",
              "    </tr>\n",
              "    <tr>\n",
              "        <td>SOUTH CAROLINA</td>\n",
              "        <td>9</td>\n",
              "        <td>406</td>\n",
              "    </tr>\n",
              "    <tr>\n",
              "        <td>COLORADO</td>\n",
              "        <td>9</td>\n",
              "        <td>406</td>\n",
              "    </tr>\n",
              "    <tr>\n",
              "        <td>ALABAMA</td>\n",
              "        <td>9</td>\n",
              "        <td>406</td>\n",
              "    </tr>\n",
              "    <tr>\n",
              "        <td>LOUISIANA</td>\n",
              "        <td>8</td>\n",
              "        <td>422</td>\n",
              "    </tr>\n",
              "    <tr>\n",
              "        <td>KENTUCKY</td>\n",
              "        <td>8</td>\n",
              "        <td>422</td>\n",
              "    </tr>\n",
              "    <tr>\n",
              "        <td>OREGON</td>\n",
              "        <td>7</td>\n",
              "        <td>443</td>\n",
              "    </tr>\n",
              "    <tr>\n",
              "        <td>OKLAHOMA</td>\n",
              "        <td>7</td>\n",
              "        <td>443</td>\n",
              "    </tr>\n",
              "    <tr>\n",
              "        <td>CONNECTICUT</td>\n",
              "        <td>7</td>\n",
              "        <td>443</td>\n",
              "    </tr>\n",
              "    <tr>\n",
              "        <td>UTAH</td>\n",
              "        <td>6</td>\n",
              "        <td>479</td>\n",
              "    </tr>\n",
              "    <tr>\n",
              "        <td>NEVADA</td>\n",
              "        <td>6</td>\n",
              "        <td>479</td>\n",
              "    </tr>\n",
              "    <tr>\n",
              "        <td>MISSISSIPPI</td>\n",
              "        <td>6</td>\n",
              "        <td>479</td>\n",
              "    </tr>\n",
              "    <tr>\n",
              "        <td>KANSAS</td>\n",
              "        <td>6</td>\n",
              "        <td>479</td>\n",
              "    </tr>\n",
              "    <tr>\n",
              "        <td>IOWA</td>\n",
              "        <td>6</td>\n",
              "        <td>479</td>\n",
              "    </tr>\n",
              "    <tr>\n",
              "        <td>ARKANSAS</td>\n",
              "        <td>6</td>\n",
              "        <td>479</td>\n",
              "    </tr>\n",
              "    <tr>\n",
              "        <td>WEST VIRGINIA</td>\n",
              "        <td>5</td>\n",
              "        <td>494</td>\n",
              "    </tr>\n",
              "    <tr>\n",
              "        <td>NEW MEXICO</td>\n",
              "        <td>5</td>\n",
              "        <td>494</td>\n",
              "    </tr>\n",
              "    <tr>\n",
              "        <td>NEBRASKA</td>\n",
              "        <td>5</td>\n",
              "        <td>494</td>\n",
              "    </tr>\n",
              "    <tr>\n",
              "        <td>RHODE ISLAND</td>\n",
              "        <td>4</td>\n",
              "        <td>514</td>\n",
              "    </tr>\n",
              "    <tr>\n",
              "        <td>NEW HAMPSHIRE</td>\n",
              "        <td>4</td>\n",
              "        <td>514</td>\n",
              "    </tr>\n",
              "    <tr>\n",
              "        <td>MAINE</td>\n",
              "        <td>4</td>\n",
              "        <td>514</td>\n",
              "    </tr>\n",
              "    <tr>\n",
              "        <td>IDAHO</td>\n",
              "        <td>4</td>\n",
              "        <td>514</td>\n",
              "    </tr>\n",
              "    <tr>\n",
              "        <td>HAWAII</td>\n",
              "        <td>4</td>\n",
              "        <td>514</td>\n",
              "    </tr>\n",
              "    <tr>\n",
              "        <td>WYOMING</td>\n",
              "        <td>3</td>\n",
              "        <td>538</td>\n",
              "    </tr>\n",
              "    <tr>\n",
              "        <td>VERMONT</td>\n",
              "        <td>3</td>\n",
              "        <td>538</td>\n",
              "    </tr>\n",
              "    <tr>\n",
              "        <td>SOUTH DAKOTA</td>\n",
              "        <td>3</td>\n",
              "        <td>538</td>\n",
              "    </tr>\n",
              "    <tr>\n",
              "        <td>NORTH DAKOTA</td>\n",
              "        <td>3</td>\n",
              "        <td>538</td>\n",
              "    </tr>\n",
              "    <tr>\n",
              "        <td>MONTANA</td>\n",
              "        <td>3</td>\n",
              "        <td>538</td>\n",
              "    </tr>\n",
              "    <tr>\n",
              "        <td>DELAWARE</td>\n",
              "        <td>3</td>\n",
              "        <td>538</td>\n",
              "    </tr>\n",
              "    <tr>\n",
              "        <td>DC</td>\n",
              "        <td>3</td>\n",
              "        <td>538</td>\n",
              "    </tr>\n",
              "    <tr>\n",
              "        <td>ALASKA</td>\n",
              "        <td>3</td>\n",
              "        <td>538</td>\n",
              "    </tr>\n",
              "</table>"
            ],
            "text/plain": [
              "[('CALIFORNIA', 55, 55),\n",
              " ('TEXAS', 38, 93),\n",
              " ('NEW YORK', 29, 151),\n",
              " ('FLORIDA', 29, 151),\n",
              " ('PENNSYLVANIA', 20, 191),\n",
              " ('ILLINOIS', 20, 191),\n",
              " ('OHIO', 18, 209),\n",
              " ('MICHIGAN', 16, 241),\n",
              " ('GEORGIA', 16, 241),\n",
              " ('NORTH CAROLINA', 15, 256),\n",
              " ('NEW JERSEY', 14, 270),\n",
              " ('VIRGINIA', 13, 283),\n",
              " ('WASHINGTON', 12, 295),\n",
              " ('TENNESSEE', 11, 339),\n",
              " ('MASSACHUSETTS', 11, 339),\n",
              " ('INDIANA', 11, 339),\n",
              " ('ARIZONA', 11, 339),\n",
              " ('WISCONSIN', 10, 379),\n",
              " ('MISSOURI', 10, 379),\n",
              " ('MINNESOTA', 10, 379),\n",
              " ('MARYLAND', 10, 379),\n",
              " ('SOUTH CAROLINA', 9, 406),\n",
              " ('COLORADO', 9, 406),\n",
              " ('ALABAMA', 9, 406),\n",
              " ('LOUISIANA', 8, 422),\n",
              " ('KENTUCKY', 8, 422),\n",
              " ('OREGON', 7, 443),\n",
              " ('OKLAHOMA', 7, 443),\n",
              " ('CONNECTICUT', 7, 443),\n",
              " ('UTAH', 6, 479),\n",
              " ('NEVADA', 6, 479),\n",
              " ('MISSISSIPPI', 6, 479),\n",
              " ('KANSAS', 6, 479),\n",
              " ('IOWA', 6, 479),\n",
              " ('ARKANSAS', 6, 479),\n",
              " ('WEST VIRGINIA', 5, 494),\n",
              " ('NEW MEXICO', 5, 494),\n",
              " ('NEBRASKA', 5, 494),\n",
              " ('RHODE ISLAND', 4, 514),\n",
              " ('NEW HAMPSHIRE', 4, 514),\n",
              " ('MAINE', 4, 514),\n",
              " ('IDAHO', 4, 514),\n",
              " ('HAWAII', 4, 514),\n",
              " ('WYOMING', 3, 538),\n",
              " ('VERMONT', 3, 538),\n",
              " ('SOUTH DAKOTA', 3, 538),\n",
              " ('NORTH DAKOTA', 3, 538),\n",
              " ('MONTANA', 3, 538),\n",
              " ('DELAWARE', 3, 538),\n",
              " ('DC', 3, 538),\n",
              " ('ALASKA', 3, 538)]"
            ]
          },
          "metadata": {
            "tags": []
          },
          "execution_count": 77
        }
      ]
    },
    {
      "cell_type": "code",
      "metadata": {
        "id": "lmKTzMHnTm7M",
        "colab_type": "code",
        "outputId": "3d8984da-13de-4868-fb3d-c9eef934c42b",
        "colab": {
          "base_uri": "https://localhost:8080/",
          "height": 292
        }
      },
      "source": [
        "# That is our target list\n",
        "%%sql\n",
        "SELECT a1.State, a1.GrandElectors, SUM(a2.GrandElectors) Running_Total\n",
        "FROM MERGEDTABLE a1, MERGEDTABLE a2\n",
        "WHERE a1.GrandElectors <= a2.GrandElectors or (a1.GrandElectors=a2.GrandElectors and a1.State = a2.State)\n",
        "GROUP BY a1.State, a1.GrandElectors\n",
        "ORDER BY a1.GrandElectors DESC, a1.State DESC limit 11"
      ],
      "execution_count": 0,
      "outputs": [
        {
          "output_type": "stream",
          "text": [
            " * sqlite://\n",
            "Done.\n"
          ],
          "name": "stdout"
        },
        {
          "output_type": "execute_result",
          "data": {
            "text/html": [
              "<table>\n",
              "    <tr>\n",
              "        <th>State</th>\n",
              "        <th>GrandElectors</th>\n",
              "        <th>Running_Total</th>\n",
              "    </tr>\n",
              "    <tr>\n",
              "        <td>CALIFORNIA</td>\n",
              "        <td>55</td>\n",
              "        <td>55</td>\n",
              "    </tr>\n",
              "    <tr>\n",
              "        <td>TEXAS</td>\n",
              "        <td>38</td>\n",
              "        <td>93</td>\n",
              "    </tr>\n",
              "    <tr>\n",
              "        <td>NEW YORK</td>\n",
              "        <td>29</td>\n",
              "        <td>151</td>\n",
              "    </tr>\n",
              "    <tr>\n",
              "        <td>FLORIDA</td>\n",
              "        <td>29</td>\n",
              "        <td>151</td>\n",
              "    </tr>\n",
              "    <tr>\n",
              "        <td>PENNSYLVANIA</td>\n",
              "        <td>20</td>\n",
              "        <td>191</td>\n",
              "    </tr>\n",
              "    <tr>\n",
              "        <td>ILLINOIS</td>\n",
              "        <td>20</td>\n",
              "        <td>191</td>\n",
              "    </tr>\n",
              "    <tr>\n",
              "        <td>OHIO</td>\n",
              "        <td>18</td>\n",
              "        <td>209</td>\n",
              "    </tr>\n",
              "    <tr>\n",
              "        <td>MICHIGAN</td>\n",
              "        <td>16</td>\n",
              "        <td>241</td>\n",
              "    </tr>\n",
              "    <tr>\n",
              "        <td>GEORGIA</td>\n",
              "        <td>16</td>\n",
              "        <td>241</td>\n",
              "    </tr>\n",
              "    <tr>\n",
              "        <td>NORTH CAROLINA</td>\n",
              "        <td>15</td>\n",
              "        <td>256</td>\n",
              "    </tr>\n",
              "    <tr>\n",
              "        <td>NEW JERSEY</td>\n",
              "        <td>14</td>\n",
              "        <td>270</td>\n",
              "    </tr>\n",
              "</table>"
            ],
            "text/plain": [
              "[('CALIFORNIA', 55, 55),\n",
              " ('TEXAS', 38, 93),\n",
              " ('NEW YORK', 29, 151),\n",
              " ('FLORIDA', 29, 151),\n",
              " ('PENNSYLVANIA', 20, 191),\n",
              " ('ILLINOIS', 20, 191),\n",
              " ('OHIO', 18, 209),\n",
              " ('MICHIGAN', 16, 241),\n",
              " ('GEORGIA', 16, 241),\n",
              " ('NORTH CAROLINA', 15, 256),\n",
              " ('NEW JERSEY', 14, 270)]"
            ]
          },
          "metadata": {
            "tags": []
          },
          "execution_count": 78
        }
      ]
    }
  ]
}